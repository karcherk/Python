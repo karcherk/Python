{
  "nbformat": 4,
  "nbformat_minor": 0,
  "metadata": {
    "colab": {
      "name": "텐서플로우를 이용한 딥러닝",
      "provenance": [],
      "collapsed_sections": [],
      "authorship_tag": "ABX9TyMbe36LdPR6WpJ9FPaG/uXs",
      "include_colab_link": true
    },
    "kernelspec": {
      "name": "python3",
      "display_name": "Python 3"
    },
    "language_info": {
      "name": "python"
    }
  },
  "cells": [
    {
      "cell_type": "markdown",
      "metadata": {
        "id": "view-in-github",
        "colab_type": "text"
      },
      "source": [
        "<a href=\"https://colab.research.google.com/github/karcherk/Python/blob/master/%ED%85%90%EC%84%9C%ED%94%8C%EB%A1%9C%EC%9A%B0%EB%A5%BC_%EC%9D%B4%EC%9A%A9%ED%95%9C_%EB%94%A5%EB%9F%AC%EB%8B%9D.ipynb\" target=\"_parent\"><img src=\"https://colab.research.google.com/assets/colab-badge.svg\" alt=\"Open In Colab\"/></a>"
      ]
    },
    {
      "cell_type": "code",
      "metadata": {
        "colab": {
          "base_uri": "https://localhost:8080/"
        },
        "id": "L5_uhPxBbtWe",
        "outputId": "1b938106-f4b9-4edb-d2f6-17bdf3c3edf4"
      },
      "source": [
        "(a1,a2),(b1,b2)=[([3,4],[30,40]),([6,7],[60,70])]\n",
        "print(a1,a2,b1,b2)\n",
        "type(a1)"
      ],
      "execution_count": 15,
      "outputs": [
        {
          "output_type": "stream",
          "text": [
            "[3, 4] [30, 40] [6, 7] [60, 70]\n"
          ],
          "name": "stdout"
        },
        {
          "output_type": "execute_result",
          "data": {
            "text/plain": [
              "list"
            ]
          },
          "metadata": {
            "tags": []
          },
          "execution_count": 15
        }
      ]
    },
    {
      "cell_type": "code",
      "metadata": {
        "colab": {
          "base_uri": "https://localhost:8080/",
          "height": 441
        },
        "id": "ZOe_dJZ8cUPO",
        "outputId": "112e1f05-2ba4-47f7-a5e6-eccf1b21e528"
      },
      "source": [
        "#tensorflow 와 tf.keras를 임포트\n",
        "import tensorflow as tf\n",
        "from tensorflow import keras\n",
        "import numpy as np\n",
        "import matplotlib.pyplot as plt\n",
        "\n",
        "\n",
        "#패션MNIST 데이터는 keras의 데이터 셋에 있눈 이를 읽어와서 학습용,테스트 데이터로 구분\n",
        "fashion_mnist = keras. datasets.fashion_mnist\n",
        "print(dir(fashion_mnist))\n",
        "(train_images,train_labels),(test_images,test_labels)=fashion_mnist.load_data()\n",
        "\n",
        "\n",
        "train_images.shape #28*28픽셀크기의 60000이미지 데이터\n",
        "\n",
        "train_labels.shape #60000개의 라벨\n",
        "\n",
        "train_images[0].shape #이미지 1개의 크기는 28*28픽셀\n",
        "\n",
        "test_labels.shape\n",
        "\n",
        "train_labels[:5] #훈련용 데이터의 5개의 레이블 확인 (0~9까지 10까지의 종류)\n",
        "\n",
        "np.set_printoptions(linewidth=150)\n",
        "train_images[0] #이미지는 넘파이 배열에 저장 되어있음, 한픽셀은 0~255값\n",
        "\n",
        "class_names=['T-shirts/top','Trowser','Pullover','Dress','Coat','Sandal','Shirt','Sweater','Bag','Ankle Boat']\n",
        "print(train_labels[0])\n",
        "class_names[train_labels[0]] #라벨에 대응하는 품목이름 출력\n",
        "\n",
        "plt.imshow(train_images[0])\n",
        "plt.show()"
      ],
      "execution_count": 16,
      "outputs": [
        {
          "output_type": "stream",
          "text": [
            "['__builtins__', '__cached__', '__doc__', '__file__', '__loader__', '__name__', '__package__', '__path__', '__spec__', '_sys', 'load_data']\n",
            "Downloading data from https://storage.googleapis.com/tensorflow/tf-keras-datasets/train-labels-idx1-ubyte.gz\n",
            "32768/29515 [=================================] - 0s 0us/step\n",
            "Downloading data from https://storage.googleapis.com/tensorflow/tf-keras-datasets/train-images-idx3-ubyte.gz\n",
            "26427392/26421880 [==============================] - 0s 0us/step\n",
            "Downloading data from https://storage.googleapis.com/tensorflow/tf-keras-datasets/t10k-labels-idx1-ubyte.gz\n",
            "8192/5148 [===============================================] - 0s 0us/step\n",
            "Downloading data from https://storage.googleapis.com/tensorflow/tf-keras-datasets/t10k-images-idx3-ubyte.gz\n",
            "4423680/4422102 [==============================] - 0s 0us/step\n",
            "9\n"
          ],
          "name": "stdout"
        },
        {
          "output_type": "display_data",
          "data": {
            "image/png": "[encoded data removed]",
            "text/plain": [
              "<Figure size 432x288 with 1 Axes>"
            ]
          },
          "metadata": {
            "tags": [],
            "needs_background": "light"
          }
        }
      ]
    },
    {
      "cell_type": "code",
      "metadata": {
        "colab": {
          "base_uri": "https://localhost:8080/",
          "height": 149
        },
        "id": "43A5OhTyfmBk",
        "outputId": "c08c6019-d27d-4ba2-f143-eed5c7fae521"
      },
      "source": [
        "fig=plt.figure()\n",
        "ax1=fig.add_subplot(1,3,1) #1행3열의 1번째위치에 배치\n",
        "ax2=fig.add_subplot(1,3,2)\n",
        "ax3=fig.add_subplot(1,3,3)\n",
        "ax1.imshow(train_images[0])#첫번쨰 훈련용 데이터\n",
        "ax2.imshow(train_images[1])#두번째 훈련용 데이터\n",
        "ax3.imshow(train_images[2])#세번쨰 훈련용 데이터\n",
        "plt.show()"
      ],
      "execution_count": 17,
      "outputs": [
        {
          "output_type": "display_data",
          "data": {
            "image/png": "[encoded data removed]",
            "text/plain": [
              "<Figure size 432x288 with 3 Axes>"
            ]
          },
          "metadata": {
            "tags": [],
            "needs_background": "light"
          }
        }
      ]
    },
    {
      "cell_type": "code",
      "metadata": {
        "id": "wxBC01kANvx8"
      },
      "source": [
        "#keras에 있는 Sequential 모델을 만들어서 Flatten 한줄로 늘어놓고 Dense층에 넣고 relu라는 비선형함수를 통과해서 나옴\n",
        "#입력레이어, 히든레이어, 출력레이어로 구성\n",
        "model = keras.Sequential([\n",
        "                         keras.layers.Flatten(input_shape=(28,28)),  #Flatten 계층,784(28*28)인 1차원배열로 바꿔줌, 외부입력을 신경망으로 가져오는 역할\n",
        "                         keras.layers.Dense(128,activation='relu'),  #히든레이어, 노드개수가 128개인 Dense 계층 활성화 relu활성화 함수 사용 계층을 더 추가해보자\n",
        "                         keras.layers.Dense(10,activation='softmax') #출력레이어, 신경망의 출력을 와부로 전달, Dense계층 활성화 softmax활성화 함수 사용\n",
        "])  #노드개수 10개의 노드 출력값의 핪이 1이 되도록 조정 됨,"
      ],
      "execution_count": 54,
      "outputs": []
    },
    {
      "cell_type": "code",
      "metadata": {
        "colab": {
          "base_uri": "https://localhost:8080/"
        },
        "id": "5CLc7s2mQacW",
        "outputId": "01749c88-9c15-4b31-9f7a-2f222eb480fe"
      },
      "source": [
        "model.compile(optimizer='adam',                         #adam(adaptive moment estimation)최적화 기법 사용\n",
        "              loss='sparse_categorical_crossentropy', #손실함수\n",
        "              metrics=['accuracy'])\n",
        "\n",
        "#훈련데이터 모음을 가지고 한 번 훈련을 실시하는 것을 에폭(epoch)이라고 부름 , 훈련 5차례 실시\n",
        "#에폭 단계마다 손실값과 정확 다 출력 됨, 훈련이 진행될수록 손실값은 줄어들고 예측의 정확도는 증가함\n",
        "model.fit(train_images,train_labels,epochs=5)\n",
        "\n",
        "#평가\n",
        "test_loss, test_acc = model.evaluate(test_images,test_labels,verbose=2)\n",
        "print(\"\\n 테스트 : \", test_acc)"
      ],
      "execution_count": 62,
      "outputs": [
        {
          "output_type": "stream",
          "text": [
            "Epoch 1/5\n",
            "1875/1875 [==============================] - 4s 2ms/step - loss: 0.4758 - accuracy: 0.8405\n",
            "Epoch 2/5\n",
            "1875/1875 [==============================] - 4s 2ms/step - loss: 0.4739 - accuracy: 0.8389\n",
            "Epoch 3/5\n",
            "1875/1875 [==============================] - 4s 2ms/step - loss: 0.4727 - accuracy: 0.8399\n",
            "Epoch 4/5\n",
            "1875/1875 [==============================] - 4s 2ms/step - loss: 0.4600 - accuracy: 0.8421\n",
            "Epoch 5/5\n",
            "1875/1875 [==============================] - 4s 2ms/step - loss: 0.4670 - accuracy: 0.8415\n",
            "313/313 - 0s - loss: 0.5393 - accuracy: 0.8242\n",
            "\n",
            " 테스트 :  0.8241999745368958\n"
          ],
          "name": "stdout"
        }
      ]
    },
    {
      "cell_type": "code",
      "metadata": {
        "colab": {
          "base_uri": "https://localhost:8080/",
          "height": 282
        },
        "id": "nQjXYYZAS8nK",
        "outputId": "b2ec835e-5fd7-47a3-bf2b-18066a8f3d44"
      },
      "source": [
        "img=test_images[33]\n",
        "label=test_labels[33]\n",
        "img.shape#테스트 이미지가 2차원배열임을 확인함\n",
        "plt.imshow(test_images[33])"
      ],
      "execution_count": 72,
      "outputs": [
        {
          "output_type": "execute_result",
          "data": {
            "text/plain": [
              "<matplotlib.image.AxesImage at 0x7f8b774902d0>"
            ]
          },
          "metadata": {
            "tags": []
          },
          "execution_count": 72
        },
        {
          "output_type": "display_data",
          "data": {
            "image/png": "[encoded data removed]",
            "text/plain": [
              "<Figure size 432x288 with 1 Axes>"
            ]
          },
          "metadata": {
            "tags": [],
            "needs_background": "light"
          }
        }
      ]
    },
    {
      "cell_type": "code",
      "metadata": {
        "colab": {
          "base_uri": "https://localhost:8080/",
          "height": 390
        },
        "id": "Z3aptncIT6nP",
        "outputId": "3782e3c9-bbcf-4964-caca-e03d3dbedcbd"
      },
      "source": [
        "img1=np.around(test_images[33]/255,1)\n",
        "img1\n",
        "\n",
        "\n",
        "img=np.expand_dims(img,axis=0)#0번쨰 차원 추가\n",
        "img.shape\n",
        "\n",
        "img\n",
        "\n",
        "test_images.shape\n",
        "\n",
        "\n",
        "\n",
        "\n",
        "predic=model.predict(img)\n",
        "print(predic)\n",
        "print(np.argmax(predic))\n",
        "print(class_names[np.argmax(predic)])\n",
        "\n",
        "import numpy as np\n",
        "randldx=np.random.randint(0,1000)#0에서 1000사이 임의수 발생시켜 테스트 이미지 선택\n",
        "plt.imshow(test_images[randldx])\n",
        "\n",
        "yhat = model.predict(test_images[randldx][np.newaxis,:,:])\n",
        "print(yhat)\n",
        "yhat=np.argmax(yhat)#10개의 출력 값중 가장 큰 값을 출력\n",
        "print(yhat)"
      ],
      "execution_count": 70,
      "outputs": [
        {
          "output_type": "stream",
          "text": [
            "WARNING:tensorflow:Model was constructed with shape (None, 28, 28) for input KerasTensor(type_spec=TensorSpec(shape=(None, 28, 28), dtype=tf.float32, name='flatten_30_input'), name='flatten_30_input', description=\"created by layer 'flatten_30_input'\"), but it was called on an input with incompatible shape (None, 1, 1, 1, 28, 28).\n",
            "[[1.3601574e-03 8.9451969e-03 4.8936465e-05 9.8668087e-01 2.9387723e-03 0.0000000e+00 2.5937319e-05 0.0000000e+00 1.5476540e-07 0.0000000e+00]]\n",
            "3\n",
            "Dress\n",
            "[[0.0000000e+00 0.0000000e+00 0.0000000e+00 0.0000000e+00 0.0000000e+00 1.0000000e+00 0.0000000e+00 2.7789172e-13 0.0000000e+00 0.0000000e+00]]\n",
            "5\n"
          ],
          "name": "stdout"
        },
        {
          "output_type": "display_data",
          "data": {
            "image/png": "[encoded data removed]",
            "text/plain": [
              "<Figure size 432x288 with 1 Axes>"
            ]
          },
          "metadata": {
            "tags": [],
            "needs_background": "light"
          }
        }
      ]
    }
  ]
}